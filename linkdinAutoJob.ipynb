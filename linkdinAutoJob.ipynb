{
 "cells": [
  {
   "cell_type": "code",
   "execution_count": 1,
   "id": "4a8489cf",
   "metadata": {},
   "outputs": [],
   "source": [
    "from selenium import webdriver\n",
    "from selenium.webdriver.common.keys import Keys\n",
    "from selenium.webdriver.common.action_chains import ActionChains\n",
    "from time import sleep\n",
    "import warnings, secretKeys\n",
    "warnings.filterwarnings('ignore') "
   ]
  },
  {
   "cell_type": "code",
   "execution_count": 2,
   "id": "b11b23e5",
   "metadata": {},
   "outputs": [],
   "source": [
    "# path = 'D:\\drive\\projects\\linkdinAutoJob\\chromedriver.exe'\n",
    "path = 'D:\\drive\\projects\\jobSkillAnalytics\\pythonSelenium\\pythonSelenium\\chromedriver.exe'\n",
    "url = 'https://www.linkedin.com/'\n",
    "driver = webdriver.Chrome(path)\n",
    "driver.maximize_window()\n",
    "\n",
    "un = secretKeys.username\n",
    "pwd = secretKeys.pwd\n",
    "# action = ActionChains(driver)\n",
    "job_key = \"Data Science\\n\"\n",
    "driver.get(url = url)\n",
    "driver.find_element_by_name(\"session_key\").send_keys(un)\n",
    "driver.find_element_by_name(\"session_password\").send_keys(pwd)\n",
    "button = driver.find_element_by_class_name(\"sign-in-form__submit-button\")\n",
    "button.click()\n",
    "sleep(3)"
   ]
  },
  {
   "cell_type": "code",
   "execution_count": 3,
   "id": "501190b1",
   "metadata": {},
   "outputs": [],
   "source": [
    "try:\n",
    "    jobs = driver.find_element_by_xpath('//*[@id=\"global-nav-typeahead\"]/input')\n",
    "except:\n",
    "    jobs = driver.find_element_by_class_name('search-global-typeahead__input.always-show-placeholder')\n",
    "finally:\n",
    "    jobs.send_keys(job_key)\n",
    "    jobs.send_keys(Keys.ENTER)\n",
    "\n",
    "sleep(5)"
   ]
  },
  {
   "cell_type": "code",
   "execution_count": 4,
   "id": "cb101349",
   "metadata": {},
   "outputs": [],
   "source": [
    "try:\n",
    "    seeAll = driver.find_element_by_class_name(\"app-aware-link\")\n",
    "except:\n",
    "    print('unable to expand')\n",
    "finally:\n",
    "    seeAll.click()\n",
    "    sleep(4)"
   ]
  },
  {
   "cell_type": "code",
   "execution_count": 5,
   "id": "9cc1e944",
   "metadata": {},
   "outputs": [],
   "source": [
    "jobTitles = driver.find_elements_by_class_name(\"disabled.ember-view.job-card-container__link.job-card-list__title\")\n",
    "links = [job.get_attribute('href') for job in jobTitles]"
   ]
  },
  {
   "cell_type": "code",
   "execution_count": 6,
   "id": "f5806379",
   "metadata": {},
   "outputs": [],
   "source": [
    "# details = driver.find_element_by_id(\"job-details\")\n",
    "# details.text\n"
   ]
  },
  {
   "cell_type": "code",
   "execution_count": 6,
   "id": "6288f35f",
   "metadata": {},
   "outputs": [],
   "source": [
    "job_dictionary = {}\n",
    "i=0\n",
    "for link in links:\n",
    "    driver.get(url=link)\n",
    "    sleep(3)\n",
    "    description = driver.find_element_by_css_selector('button[aria-label=\"Click to see more description\"]')\n",
    "    description.click()\n",
    "    details = driver.find_element_by_id(\"job-details\")\n",
    "    text = details.text\n",
    "    # print(text)\n",
    "    job_dictionary[i] = [link,text]\n",
    "    i=i+1\n",
    "    sleep(3)"
   ]
  },
  {
   "cell_type": "code",
   "execution_count": 11,
   "id": "d431b6b4",
   "metadata": {},
   "outputs": [],
   "source": [
    "import json\n",
    "with open(\"db.json\",\"w\") as outfile:\n",
    "    json.dump(job_dictionary, outfile)"
   ]
  },
  {
   "cell_type": "code",
   "execution_count": 19,
   "id": "ffef4a85",
   "metadata": {},
   "outputs": [
    {
     "data": {
      "text/plain": [
       "\"About the job\\nAre you passionate about Data? Do you get up in the morning excited about identifying and solving complex problems?\\n\\nThe Online Grocery Data Science Team develop and continually improve cutting edge, automated systems and tools that drive our Asda eCommerce business, delivering great experiences for our customers and maximising efficiency for our colleagues.\\n\\nAbout The Role\\n\\nYou will;\\nFind data led solutions to complex problems in a collaborative working environment.\\nBuild collaborative relationships with business stake holders and engineering\\nProvide support in delivering change.\\nSelf-start in identifying\\nDeliver great customer and colleague experiences through cutting edge automated data systems.\\nWe encourage innovation and you will have autonomy in your area of focus. Working at ASDA is a rewarding experience - and we want you to grow your career with us in a thriving business.\\n\\nWhat You'll Need\\nExperience in utilising data tools with an aptitude to model and activate data led solutions.\\nThe ability to formulate clear, concise conclusions minimising Bias - and present options / direction to the wider team.\\nA passion to find and solve complex problems – you will have a keen eye to spot opportunities within large datasets.\\nForward-thinking mindset with ability to make decisions and adapt plans with agility.\\nDemonstrable knowledge of one or all of: SQL, Python, Alteryx, Power BI, Spark & Microsoft Azure Stack desirable\\nFully conversant in multiple analysis techniques - desirable experience in statistical concepts.\\nGood organisational skills and a desire for autonomy\\nIf flexible working is important to you, then look no further! At Asda, we are proud of our culture and our commitment to flexible working. This role is based at Asda House, Leeds with the flexibility to work from home 2-3 days per week\\n\\nYou will also get an excellent benefits package including;-\\nDiscretionary company bonus\\nCompany pension up to 7% matched\\n10% colleague discount, free parking and many additional rewards.\\nWe want all colleagues to be able to bring their best and true selves to work, every day. Simply put, we want our colleagues to be Proud to be Asda and proud to be themselves.\""
      ]
     },
     "execution_count": 19,
     "metadata": {},
     "output_type": "execute_result"
    }
   ],
   "source": [
    "f = open('db.json')\n",
    "data = json.load(f)\n",
    "data['0'][1]"
   ]
  },
  {
   "cell_type": "code",
   "execution_count": 8,
   "id": "d370a4dd",
   "metadata": {},
   "outputs": [],
   "source": [
    "sleep(60)\n",
    "driver.close()\n",
    "driver.quit()"
   ]
  },
  {
   "cell_type": "code",
   "execution_count": null,
   "id": "4d82f5e9",
   "metadata": {},
   "outputs": [],
   "source": []
  }
 ],
 "metadata": {
  "kernelspec": {
   "display_name": "Python 3 (ipykernel)",
   "language": "python",
   "name": "python3"
  },
  "language_info": {
   "codemirror_mode": {
    "name": "ipython",
    "version": 3
   },
   "file_extension": ".py",
   "mimetype": "text/x-python",
   "name": "python",
   "nbconvert_exporter": "python",
   "pygments_lexer": "ipython3",
   "version": "3.10.2"
  }
 },
 "nbformat": 4,
 "nbformat_minor": 5
}
