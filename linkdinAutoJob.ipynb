{
 "cells": [
  {
   "cell_type": "code",
   "execution_count": 12,
   "id": "4a8489cf",
   "metadata": {},
   "outputs": [],
   "source": [
    "from selenium import webdriver\n",
    "from selenium.webdriver.common.keys import Keys\n",
    "from selenium.webdriver.common.action_chains import ActionChains\n",
    "from time import sleep\n",
    "import warnings, secretKeys\n",
    "warnings.filterwarnings('ignore')"
   ]
  },
  {
   "cell_type": "code",
   "execution_count": 13,
   "id": "b11b23e5",
   "metadata": {},
   "outputs": [],
   "source": [
    "path = 'D:\\drive\\projects\\linkdinAutoJob\\chromedriver.exe'\n",
    "url = 'https://www.linkedin.com/'\n",
    "driver = webdriver.Chrome(path)\n",
    "driver.maximize_window()\n",
    "\n",
    "un = secretKeys.username\n",
    "pwd = secretKeys.pwd\n",
    "# action = ActionChains(driver)\n",
    "job_key = \"Data Science\\n\"\n",
    "driver.get(url = url)\n",
    "driver.find_element_by_name(\"session_key\").send_keys(un)\n",
    "driver.find_element_by_name(\"session_password\").send_keys(pwd)\n",
    "button = driver.find_element_by_class_name(\"sign-in-form__submit-button\")\n",
    "button.click()\n",
    "sleep(3)"
   ]
  },
  {
   "cell_type": "code",
   "execution_count": 14,
   "id": "501190b1",
   "metadata": {},
   "outputs": [],
   "source": [
    "try:\n",
    "    jobs = driver.find_element_by_xpath('//*[@id=\"global-nav-typeahead\"]/input')\n",
    "except:\n",
    "    jobs = driver.find_element_by_class_name('search-global-typeahead__input.always-show-placeholder')\n",
    "finally:\n",
    "    jobs.send_keys(job_key)\n",
    "    jobs.send_keys(Keys.ENTER)\n",
    "\n",
    "sleep(5)"
   ]
  },
  {
   "cell_type": "code",
   "execution_count": 16,
   "id": "cb101349",
   "metadata": {},
   "outputs": [],
   "source": [
    "try:\n",
    "    seeAll = driver.find_element_by_class_name(\"app-aware-link\")\n",
    "except:\n",
    "    print('unable to expand')\n",
    "finally:\n",
    "    seeAll.click()\n",
    "    sleep(4)"
   ]
  },
  {
   "cell_type": "code",
   "execution_count": 19,
   "id": "9cc1e944",
   "metadata": {},
   "outputs": [],
   "source": [
    "jobTitles = driver.find_elements_by_class_name(\"disabled.ember-view.job-card-container__link.job-card-list__title\")\n",
    "links = [job.get_attribute('href') for job in jobTitles]"
   ]
  },
  {
   "cell_type": "code",
   "execution_count": 31,
   "id": "f5806379",
   "metadata": {},
   "outputs": [
    {
     "data": {
      "text/plain": [
       "'About the job\\nData Scientists | SQL Python | Leading change\\n\\nDo you want to make a genuine difference to the planet? Do have great Data skills and want to take those to a new level?\\n\\nAbout the role\\nHere at Drax, we are pushing harder and further than we ever have before when it comes to our focus on enriching Data for tangible insight and meaning to lead business decisions and change for the better. We are looking for Data driven SME’s to join our Data Science team to help us lead the way as an energy provider in a Carbon neutral world.\\n\\nThese positions are available to hybrid working with Drax having offices in the City of London, Northampton, Ipswich & Selby.\\n\\nAbout you?\\nWe are looking for highly analytical Data Scientists to work on a variety of projects across the business unit performing a variety of statistical and analytical techniques such a regression models, forecasting and utilise Machine Learning techniques via your Python skill. Additional skills and technology utilised included but not limited to are SQL, PowerShell & R.\\nExperience with the Utilities and Energy sector is a nice to have, but we are looking for those that see value in our cause who can grasp the data insights available from internal and external sources that will be provided by the Data Engineering team. We are looking to make several hires, so please recommend a friend and or share with your network.\\n\\nAbout Drax\\nDrax is playing a vital role in helping change the way energy is generated, supplied, and used. To learn more about how we’re enabling a zero carbon, lower cost energy future, CLICK HERE.\\nWe believe, we’re at our best when we’re proactive, committed, and reliable – and trust others to be the same, so we are open to discussing flexible working so that your hours work for you.\\n\\nApplication Process\\nTo arrange a chat or get a copy of the job description, please email emma.coombes@drax.com\\nIf you’re ready to submit an application, click the “Apply now” button.\\nWe’re at our best when we share inspiration and insight right across Drax, and search for new ideas and ways of working. We welcome applications from everyone and hire great people to build talented and diverse teams.'"
      ]
     },
     "execution_count": 31,
     "metadata": {},
     "output_type": "execute_result"
    }
   ],
   "source": [
    "details = driver.find_element_by_id(\"job-details\")\n",
    "details.text"
   ]
  },
  {
   "cell_type": "code",
   "execution_count": 22,
   "id": "6288f35f",
   "metadata": {},
   "outputs": [],
   "source": [
    "job_dictionary = {}\n",
    "for link in links:\n",
    "    driver.get(url=link)\n",
    "    sleep(10)\n",
    "    description = driver.find_element_by_css_selector('button[aria-label=\"Click to see more description\"]')\n",
    "    description.click()\n",
    "    details = driver.find_element_by_id(\"job-details\")\n",
    "    text = details.text\n",
    "    job_dictionary[link] = text\n",
    "    sleep(10)"
   ]
  },
  {
   "cell_type": "code",
   "execution_count": null,
   "id": "1fbb8501",
   "metadata": {},
   "outputs": [],
   "source": [
    "# jobTitles = driver.find_elements_by_class_name(\"disabled.ember-view.job-card-container__link.job-card-list__title\")\n",
    "# for job in jobTitles:\n",
    "#     jobLink = job.get_attribute('href')\n",
    "#     print(job.text, jobLink)\n",
    "    # print('\\n')"
   ]
  },
  {
   "cell_type": "code",
   "execution_count": null,
   "id": "4ceaf424",
   "metadata": {},
   "outputs": [],
   "source": []
  },
  {
   "cell_type": "code",
   "execution_count": 10,
   "id": "56d55943",
   "metadata": {},
   "outputs": [
    {
     "ename": "StaleElementReferenceException",
     "evalue": "Message: stale element reference: element is not attached to the page document\n  (Session info: chrome=100.0.4896.75)\nStacktrace:\nBacktrace:\n\tOrdinal0 [0x00799943+2595139]\n\tOrdinal0 [0x0072C9F1+2148849]\n\tOrdinal0 [0x00624528+1066280]\n\tOrdinal0 [0x00626E04+1076740]\n\tOrdinal0 [0x00626CBE+1076414]\n\tOrdinal0 [0x0062763A+1078842]\n\tOrdinal0 [0x0067C529+1426729]\n\tOrdinal0 [0x0066B9EC+1358316]\n\tOrdinal0 [0x0067BAF2+1424114]\n\tOrdinal0 [0x0066B806+1357830]\n\tOrdinal0 [0x00646086+1204358]\n\tOrdinal0 [0x00646F96+1208214]\n\tGetHandleVerifier [0x0093B232+1658114]\n\tGetHandleVerifier [0x009F312C+2411516]\n\tGetHandleVerifier [0x0082F261+560433]\n\tGetHandleVerifier [0x0082E366+556598]\n\tOrdinal0 [0x0073286B+2173035]\n\tOrdinal0 [0x007375F8+2192888]\n\tOrdinal0 [0x007376E5+2193125]\n\tOrdinal0 [0x007411FC+2232828]\n\tBaseThreadInitThunk [0x7657FA29+25]\n\tRtlGetAppContainerNamedObjectPath [0x779D7A7E+286]\n\tRtlGetAppContainerNamedObjectPath [0x779D7A4E+238]\n",
     "output_type": "error",
     "traceback": [
      "\u001b[1;31m---------------------------------------------------------------------------\u001b[0m",
      "\u001b[1;31mStaleElementReferenceException\u001b[0m            Traceback (most recent call last)",
      "\u001b[1;32md:\\drive\\projects\\linkdinAutoJob\\linkdinAutoJob.ipynb Cell 6'\u001b[0m in \u001b[0;36m<cell line: 1>\u001b[1;34m()\u001b[0m\n\u001b[0;32m      <a href='vscode-notebook-cell:/d%3A/drive/projects/linkdinAutoJob/linkdinAutoJob.ipynb#ch0000006?line=0'>1</a>\u001b[0m \u001b[39mfor\u001b[39;00m job \u001b[39min\u001b[39;00m jobTitles:\n\u001b[1;32m----> <a href='vscode-notebook-cell:/d%3A/drive/projects/linkdinAutoJob/linkdinAutoJob.ipynb#ch0000006?line=1'>2</a>\u001b[0m     jobLink \u001b[39m=\u001b[39m job\u001b[39m.\u001b[39;49mget_attribute(\u001b[39m'\u001b[39;49m\u001b[39mhref\u001b[39;49m\u001b[39m'\u001b[39;49m)\n\u001b[0;32m      <a href='vscode-notebook-cell:/d%3A/drive/projects/linkdinAutoJob/linkdinAutoJob.ipynb#ch0000006?line=2'>3</a>\u001b[0m     jobItem \u001b[39m=\u001b[39m driver\u001b[39m.\u001b[39mget(url \u001b[39m=\u001b[39m jobLink)\n\u001b[0;32m      <a href='vscode-notebook-cell:/d%3A/drive/projects/linkdinAutoJob/linkdinAutoJob.ipynb#ch0000006?line=3'>4</a>\u001b[0m     sleep(\u001b[39m15\u001b[39m)\n",
      "File \u001b[1;32mc:\\vishu\\pydsenv\\vishuDs\\lib\\site-packages\\selenium\\webdriver\\remote\\webelement.py:155\u001b[0m, in \u001b[0;36mWebElement.get_attribute\u001b[1;34m(self, name)\u001b[0m\n\u001b[0;32m    <a href='file:///c%3A/vishu/pydsenv/vishuDs/lib/site-packages/selenium/webdriver/remote/webelement.py?line=127'>128</a>\u001b[0m \u001b[39mdef\u001b[39;00m \u001b[39mget_attribute\u001b[39m(\u001b[39mself\u001b[39m, name) \u001b[39m-\u001b[39m\u001b[39m>\u001b[39m \u001b[39mstr\u001b[39m:\n\u001b[0;32m    <a href='file:///c%3A/vishu/pydsenv/vishuDs/lib/site-packages/selenium/webdriver/remote/webelement.py?line=128'>129</a>\u001b[0m     \u001b[39m\"\"\"Gets the given attribute or property of the element.\u001b[39;00m\n\u001b[0;32m    <a href='file:///c%3A/vishu/pydsenv/vishuDs/lib/site-packages/selenium/webdriver/remote/webelement.py?line=129'>130</a>\u001b[0m \n\u001b[0;32m    <a href='file:///c%3A/vishu/pydsenv/vishuDs/lib/site-packages/selenium/webdriver/remote/webelement.py?line=130'>131</a>\u001b[0m \u001b[39m    This method will first try to return the value of a property with the\u001b[39;00m\n\u001b[1;32m   (...)\u001b[0m\n\u001b[0;32m    <a href='file:///c%3A/vishu/pydsenv/vishuDs/lib/site-packages/selenium/webdriver/remote/webelement.py?line=151'>152</a>\u001b[0m \n\u001b[0;32m    <a href='file:///c%3A/vishu/pydsenv/vishuDs/lib/site-packages/selenium/webdriver/remote/webelement.py?line=152'>153</a>\u001b[0m \u001b[39m    \"\"\"\u001b[39;00m\n\u001b[1;32m--> <a href='file:///c%3A/vishu/pydsenv/vishuDs/lib/site-packages/selenium/webdriver/remote/webelement.py?line=154'>155</a>\u001b[0m     attribute_value \u001b[39m=\u001b[39m \u001b[39mself\u001b[39;49m\u001b[39m.\u001b[39;49mparent\u001b[39m.\u001b[39;49mexecute_script(\n\u001b[0;32m    <a href='file:///c%3A/vishu/pydsenv/vishuDs/lib/site-packages/selenium/webdriver/remote/webelement.py?line=155'>156</a>\u001b[0m         \u001b[39m\"\u001b[39;49m\u001b[39mreturn (\u001b[39;49m\u001b[39m%s\u001b[39;49;00m\u001b[39m).apply(null, arguments);\u001b[39;49m\u001b[39m\"\u001b[39;49m \u001b[39m%\u001b[39;49m getAttribute_js,\n\u001b[0;32m    <a href='file:///c%3A/vishu/pydsenv/vishuDs/lib/site-packages/selenium/webdriver/remote/webelement.py?line=156'>157</a>\u001b[0m         \u001b[39mself\u001b[39;49m, name)\n\u001b[0;32m    <a href='file:///c%3A/vishu/pydsenv/vishuDs/lib/site-packages/selenium/webdriver/remote/webelement.py?line=157'>158</a>\u001b[0m     \u001b[39mreturn\u001b[39;00m attribute_value\n",
      "File \u001b[1;32mc:\\vishu\\pydsenv\\vishuDs\\lib\\site-packages\\selenium\\webdriver\\remote\\webdriver.py:879\u001b[0m, in \u001b[0;36mWebDriver.execute_script\u001b[1;34m(self, script, *args)\u001b[0m\n\u001b[0;32m    <a href='file:///c%3A/vishu/pydsenv/vishuDs/lib/site-packages/selenium/webdriver/remote/webdriver.py?line=875'>876</a>\u001b[0m converted_args \u001b[39m=\u001b[39m \u001b[39mlist\u001b[39m(args)\n\u001b[0;32m    <a href='file:///c%3A/vishu/pydsenv/vishuDs/lib/site-packages/selenium/webdriver/remote/webdriver.py?line=876'>877</a>\u001b[0m command \u001b[39m=\u001b[39m Command\u001b[39m.\u001b[39mW3C_EXECUTE_SCRIPT\n\u001b[1;32m--> <a href='file:///c%3A/vishu/pydsenv/vishuDs/lib/site-packages/selenium/webdriver/remote/webdriver.py?line=878'>879</a>\u001b[0m \u001b[39mreturn\u001b[39;00m \u001b[39mself\u001b[39;49m\u001b[39m.\u001b[39;49mexecute(command, {\n\u001b[0;32m    <a href='file:///c%3A/vishu/pydsenv/vishuDs/lib/site-packages/selenium/webdriver/remote/webdriver.py?line=879'>880</a>\u001b[0m     \u001b[39m'\u001b[39;49m\u001b[39mscript\u001b[39;49m\u001b[39m'\u001b[39;49m: script,\n\u001b[0;32m    <a href='file:///c%3A/vishu/pydsenv/vishuDs/lib/site-packages/selenium/webdriver/remote/webdriver.py?line=880'>881</a>\u001b[0m     \u001b[39m'\u001b[39;49m\u001b[39margs\u001b[39;49m\u001b[39m'\u001b[39;49m: converted_args})[\u001b[39m'\u001b[39m\u001b[39mvalue\u001b[39m\u001b[39m'\u001b[39m]\n",
      "File \u001b[1;32mc:\\vishu\\pydsenv\\vishuDs\\lib\\site-packages\\selenium\\webdriver\\remote\\webdriver.py:425\u001b[0m, in \u001b[0;36mWebDriver.execute\u001b[1;34m(self, driver_command, params)\u001b[0m\n\u001b[0;32m    <a href='file:///c%3A/vishu/pydsenv/vishuDs/lib/site-packages/selenium/webdriver/remote/webdriver.py?line=422'>423</a>\u001b[0m response \u001b[39m=\u001b[39m \u001b[39mself\u001b[39m\u001b[39m.\u001b[39mcommand_executor\u001b[39m.\u001b[39mexecute(driver_command, params)\n\u001b[0;32m    <a href='file:///c%3A/vishu/pydsenv/vishuDs/lib/site-packages/selenium/webdriver/remote/webdriver.py?line=423'>424</a>\u001b[0m \u001b[39mif\u001b[39;00m response:\n\u001b[1;32m--> <a href='file:///c%3A/vishu/pydsenv/vishuDs/lib/site-packages/selenium/webdriver/remote/webdriver.py?line=424'>425</a>\u001b[0m     \u001b[39mself\u001b[39;49m\u001b[39m.\u001b[39;49merror_handler\u001b[39m.\u001b[39;49mcheck_response(response)\n\u001b[0;32m    <a href='file:///c%3A/vishu/pydsenv/vishuDs/lib/site-packages/selenium/webdriver/remote/webdriver.py?line=425'>426</a>\u001b[0m     response[\u001b[39m'\u001b[39m\u001b[39mvalue\u001b[39m\u001b[39m'\u001b[39m] \u001b[39m=\u001b[39m \u001b[39mself\u001b[39m\u001b[39m.\u001b[39m_unwrap_value(\n\u001b[0;32m    <a href='file:///c%3A/vishu/pydsenv/vishuDs/lib/site-packages/selenium/webdriver/remote/webdriver.py?line=426'>427</a>\u001b[0m         response\u001b[39m.\u001b[39mget(\u001b[39m'\u001b[39m\u001b[39mvalue\u001b[39m\u001b[39m'\u001b[39m, \u001b[39mNone\u001b[39;00m))\n\u001b[0;32m    <a href='file:///c%3A/vishu/pydsenv/vishuDs/lib/site-packages/selenium/webdriver/remote/webdriver.py?line=427'>428</a>\u001b[0m     \u001b[39mreturn\u001b[39;00m response\n",
      "File \u001b[1;32mc:\\vishu\\pydsenv\\vishuDs\\lib\\site-packages\\selenium\\webdriver\\remote\\errorhandler.py:247\u001b[0m, in \u001b[0;36mErrorHandler.check_response\u001b[1;34m(self, response)\u001b[0m\n\u001b[0;32m    <a href='file:///c%3A/vishu/pydsenv/vishuDs/lib/site-packages/selenium/webdriver/remote/errorhandler.py?line=244'>245</a>\u001b[0m         alert_text \u001b[39m=\u001b[39m value[\u001b[39m'\u001b[39m\u001b[39malert\u001b[39m\u001b[39m'\u001b[39m]\u001b[39m.\u001b[39mget(\u001b[39m'\u001b[39m\u001b[39mtext\u001b[39m\u001b[39m'\u001b[39m)\n\u001b[0;32m    <a href='file:///c%3A/vishu/pydsenv/vishuDs/lib/site-packages/selenium/webdriver/remote/errorhandler.py?line=245'>246</a>\u001b[0m     \u001b[39mraise\u001b[39;00m exception_class(message, screen, stacktrace, alert_text)  \u001b[39m# type: ignore[call-arg]  # mypy is not smart enough here\u001b[39;00m\n\u001b[1;32m--> <a href='file:///c%3A/vishu/pydsenv/vishuDs/lib/site-packages/selenium/webdriver/remote/errorhandler.py?line=246'>247</a>\u001b[0m \u001b[39mraise\u001b[39;00m exception_class(message, screen, stacktrace)\n",
      "\u001b[1;31mStaleElementReferenceException\u001b[0m: Message: stale element reference: element is not attached to the page document\n  (Session info: chrome=100.0.4896.75)\nStacktrace:\nBacktrace:\n\tOrdinal0 [0x00799943+2595139]\n\tOrdinal0 [0x0072C9F1+2148849]\n\tOrdinal0 [0x00624528+1066280]\n\tOrdinal0 [0x00626E04+1076740]\n\tOrdinal0 [0x00626CBE+1076414]\n\tOrdinal0 [0x0062763A+1078842]\n\tOrdinal0 [0x0067C529+1426729]\n\tOrdinal0 [0x0066B9EC+1358316]\n\tOrdinal0 [0x0067BAF2+1424114]\n\tOrdinal0 [0x0066B806+1357830]\n\tOrdinal0 [0x00646086+1204358]\n\tOrdinal0 [0x00646F96+1208214]\n\tGetHandleVerifier [0x0093B232+1658114]\n\tGetHandleVerifier [0x009F312C+2411516]\n\tGetHandleVerifier [0x0082F261+560433]\n\tGetHandleVerifier [0x0082E366+556598]\n\tOrdinal0 [0x0073286B+2173035]\n\tOrdinal0 [0x007375F8+2192888]\n\tOrdinal0 [0x007376E5+2193125]\n\tOrdinal0 [0x007411FC+2232828]\n\tBaseThreadInitThunk [0x7657FA29+25]\n\tRtlGetAppContainerNamedObjectPath [0x779D7A7E+286]\n\tRtlGetAppContainerNamedObjectPath [0x779D7A4E+238]\n"
     ]
    }
   ],
   "source": [
    "for job in jobTitles:\n",
    "    jobLink = job.get_attribute('href')\n",
    "    jobItem = driver.get(url = jobLink)\n",
    "    sleep(15)\n",
    "    driver.back()\n",
    "    sleep(15)"
   ]
  },
  {
   "cell_type": "code",
   "execution_count": null,
   "id": "5ab6cc44",
   "metadata": {},
   "outputs": [],
   "source": []
  },
  {
   "cell_type": "code",
   "execution_count": null,
   "id": "063ebcec",
   "metadata": {},
   "outputs": [],
   "source": []
  },
  {
   "cell_type": "code",
   "execution_count": null,
   "id": "7ed73007",
   "metadata": {},
   "outputs": [],
   "source": []
  },
  {
   "cell_type": "code",
   "execution_count": null,
   "id": "2efe3538",
   "metadata": {},
   "outputs": [],
   "source": []
  },
  {
   "cell_type": "code",
   "execution_count": null,
   "id": "7b443648",
   "metadata": {},
   "outputs": [],
   "source": []
  },
  {
   "cell_type": "code",
   "execution_count": null,
   "id": "8028daf0",
   "metadata": {},
   "outputs": [],
   "source": []
  },
  {
   "cell_type": "code",
   "execution_count": null,
   "id": "a269ba2d",
   "metadata": {},
   "outputs": [],
   "source": []
  },
  {
   "cell_type": "code",
   "execution_count": null,
   "id": "59f2d353",
   "metadata": {},
   "outputs": [],
   "source": [
    "# jobList = driver.find_elements_by_class_name(\"jobs-search-results__list list-style-none\")\n",
    "jobListBody = driver.find_element_by_xpath(\"/html/body/div[6]/div[3]/div[3]/div[2]/div/section[1]/div/div/ul\")\n",
    "# print(jobListBody)\n",
    "jobList = jobListBody.find_elements_by_tag_name(\"li\")\n",
    "sleep(4)\n",
    "for job in jobList:\n",
    "    print(job)\n",
    "    print(job.text)\n",
    "    # jobDetail = job.find_elements_by_tag_name('a')\n",
    "    # print(jobDetail)\n",
    "    print('\\n')"
   ]
  },
  {
   "cell_type": "code",
   "execution_count": null,
   "id": "83c7148d",
   "metadata": {},
   "outputs": [],
   "source": []
  },
  {
   "cell_type": "code",
   "execution_count": null,
   "id": "3a06e5a9",
   "metadata": {},
   "outputs": [],
   "source": []
  },
  {
   "cell_type": "code",
   "execution_count": null,
   "id": "2b5d96b7",
   "metadata": {},
   "outputs": [],
   "source": [
    "results = driver.find_element_by_xpath(\"/html/body/div[6]/div[3]/div[3]/div[2]/div/section[1]/div/div/ul\")\n",
    "results_list = results.find_elements_by_tag_name(\"li\")"
   ]
  },
  {
   "cell_type": "code",
   "execution_count": null,
   "id": "91f17794",
   "metadata": {},
   "outputs": [],
   "source": [
    "len(results_list)"
   ]
  },
  {
   "cell_type": "code",
   "execution_count": null,
   "id": "e4e789fd",
   "metadata": {},
   "outputs": [],
   "source": [
    "for i in results_list:\n",
    "    print(i.text,\"\\n\\n\")"
   ]
  },
  {
   "cell_type": "code",
   "execution_count": null,
   "id": "a623b467",
   "metadata": {},
   "outputs": [],
   "source": []
  },
  {
   "cell_type": "code",
   "execution_count": null,
   "id": "ff58ae17",
   "metadata": {},
   "outputs": [],
   "source": []
  },
  {
   "cell_type": "code",
   "execution_count": null,
   "id": "d24dab24",
   "metadata": {},
   "outputs": [],
   "source": []
  },
  {
   "cell_type": "code",
   "execution_count": null,
   "id": "e7af15fa",
   "metadata": {},
   "outputs": [],
   "source": [
    "x = input(\"enter x\")"
   ]
  },
  {
   "cell_type": "code",
   "execution_count": null,
   "id": "d370a4dd",
   "metadata": {},
   "outputs": [],
   "source": [
    "sleep(60)\n",
    "driver.close()\n",
    "driver.quit()"
   ]
  },
  {
   "cell_type": "code",
   "execution_count": null,
   "id": "74bd5600",
   "metadata": {},
   "outputs": [],
   "source": []
  },
  {
   "cell_type": "code",
   "execution_count": null,
   "id": "8f0ebdbd",
   "metadata": {},
   "outputs": [],
   "source": []
  },
  {
   "cell_type": "code",
   "execution_count": null,
   "id": "a1fc1af4",
   "metadata": {},
   "outputs": [],
   "source": []
  },
  {
   "cell_type": "code",
   "execution_count": null,
   "id": "abc53ca9",
   "metadata": {},
   "outputs": [],
   "source": []
  },
  {
   "cell_type": "code",
   "execution_count": null,
   "id": "0e1cb363",
   "metadata": {},
   "outputs": [],
   "source": []
  },
  {
   "cell_type": "code",
   "execution_count": null,
   "id": "d446adf4",
   "metadata": {},
   "outputs": [],
   "source": []
  },
  {
   "cell_type": "code",
   "execution_count": null,
   "id": "11cc80f8",
   "metadata": {},
   "outputs": [],
   "source": []
  },
  {
   "cell_type": "code",
   "execution_count": null,
   "id": "fa4b6030",
   "metadata": {},
   "outputs": [],
   "source": []
  }
 ],
 "metadata": {
  "kernelspec": {
   "display_name": "Python 3 (ipykernel)",
   "language": "python",
   "name": "python3"
  },
  "language_info": {
   "codemirror_mode": {
    "name": "ipython",
    "version": 3
   },
   "file_extension": ".py",
   "mimetype": "text/x-python",
   "name": "python",
   "nbconvert_exporter": "python",
   "pygments_lexer": "ipython3",
   "version": "3.10.2"
  }
 },
 "nbformat": 4,
 "nbformat_minor": 5
}
