{
 "cells": [
  {
   "cell_type": "code",
   "execution_count": 11,
   "id": "4a8489cf",
   "metadata": {},
   "outputs": [],
   "source": [
    "from selenium import webdriver\n",
    "from selenium.webdriver.common.keys import Keys\n",
    "from selenium.webdriver.common.action_chains import ActionChains\n",
    "from selenium.common.exceptions import NoSuchElementException\n",
    "from time import sleep\n",
    "import warnings, secretKeys\n",
    "warnings.filterwarnings('ignore') "
   ]
  },
  {
   "cell_type": "code",
   "execution_count": 12,
   "id": "b11b23e5",
   "metadata": {},
   "outputs": [],
   "source": [
    "# path = 'D:\\drive\\projects\\linkdinAutoJob\\chromedriver.exe'\n",
    "path = 'D:\\drive\\projects\\jobSkillAnalytics\\pythonSelenium\\pythonSelenium\\chromedriver.exe'\n",
    "url = 'https://www.linkedin.com/'\n",
    "driver = webdriver.Chrome(path)\n",
    "driver.maximize_window()\n",
    "\n",
    "un = secretKeys.username\n",
    "pwd = secretKeys.pwd\n",
    "# action = ActionChains(driver)\n",
    "job_key = \"Data Science\\n\"\n",
    "driver.get(url = url)\n",
    "driver.find_element_by_name(\"session_key\").send_keys(un)\n",
    "driver.find_element_by_name(\"session_password\").send_keys(pwd)\n",
    "button = driver.find_element_by_class_name(\"sign-in-form__submit-button\")\n",
    "button.click()\n",
    "sleep(3)"
   ]
  },
  {
   "cell_type": "code",
   "execution_count": 13,
   "id": "501190b1",
   "metadata": {},
   "outputs": [],
   "source": [
    "try:\n",
    "    jobs = driver.find_element_by_xpath('//*[@id=\"global-nav-typeahead\"]/input')\n",
    "except:                     # needed to add appropriate exceptions\n",
    "    jobs = driver.find_element_by_class_name('search-global-typeahead__input.always-show-placeholder')\n",
    "finally:\n",
    "    jobs.send_keys(job_key)\n",
    "    jobs.send_keys(Keys.ENTER)\n",
    "\n",
    "sleep(5)"
   ]
  },
  {
   "cell_type": "code",
   "execution_count": 4,
   "id": "cb101349",
   "metadata": {},
   "outputs": [],
   "source": [
    "try:\n",
    "    seeAll = driver.find_element_by_class_name(\"app-aware-link\")\n",
    "except:\n",
    "    print('unable to expand')\n",
    "finally:\n",
    "    seeAll.click()\n",
    "    sleep(4)"
   ]
  },
  {
   "cell_type": "code",
   "execution_count": 5,
   "id": "9cc1e944",
   "metadata": {},
   "outputs": [],
   "source": [
    "jobTitles = driver.find_elements_by_class_name(\"disabled.ember-view.job-card-container__link.job-card-list__title\")\n",
    "links = [job.get_attribute('href') for job in jobTitles]"
   ]
  },
  {
   "cell_type": "code",
   "execution_count": 6,
   "id": "f5806379",
   "metadata": {},
   "outputs": [],
   "source": [
    "# details = driver.find_element_by_id(\"job-details\")\n",
    "# details.text\n"
   ]
  },
  {
   "cell_type": "code",
   "execution_count": 7,
   "id": "6288f35f",
   "metadata": {},
   "outputs": [],
   "source": [
    "job_dictionary = {}\n",
    "i=0\n",
    "for link in links:\n",
    "    driver.get(url=link)\n",
    "    sleep(3)\n",
    "    description = driver.find_element_by_css_selector('button[aria-label=\"Click to see more description\"]')\n",
    "    description.click()\n",
    "    details = driver.find_element_by_id(\"job-details\")\n",
    "    text = details.text\n",
    "    # print(text)\n",
    "    job_dictionary[i] = [link,text]\n",
    "    i=i+1\n",
    "    sleep(3)"
   ]
  },
  {
   "cell_type": "code",
   "execution_count": 8,
   "id": "d431b6b4",
   "metadata": {},
   "outputs": [],
   "source": [
    "# import json\n",
    "# with open(\"db.json\",\"w\") as outfile:\n",
    "#     json.dump(job_dictionary, outfile)"
   ]
  },
  {
   "cell_type": "code",
   "execution_count": 9,
   "id": "ffef4a85",
   "metadata": {},
   "outputs": [
    {
     "data": {
      "text/plain": [
       "\"About the job\\nPrincipal Data EngineerRemote working/ one day per month in the Leeds officeSalary up to £110,000 per annum plus 15% bonusAn exciting opportunity has arisen to join a fast growing, technologically advanced consulting company, within a Principal Data Engineer role. This organisation boasts a multitude of clients ranging from a wealth of well-known FTSE 100's to start ups and have been named as one of the top consultancies and small business to work for.This role would suit a highly passionate developer who is excited by data and new technologies and is able to deliver technical leadership across a range of different projects for different clients. On top of this the desired candidate will have superb client facing/consultative skills and the ability to drive business development and brand awareness opportunities.Key Responsibilities will include:Leading the technical design of data projectsProviding technical leadership of delivery projects using a range of technologiesDefining and designing architecture at a Logical, Physical and Conceptual levelTeam mentoring and management of multi-disciplinary, technical teamsUnderstanding clients' needs and articulating how they can get the most value from their dataCreating new innovative ideasBuilding trusted relationships with clients and influencing technical decision makingSkills Required:Experience in a similar role and will have had the responsibility of delivering a wide range of projectsProficiency with multiple programming languages (Python, Scala, Java, etc)An understanding of Cloud solution Architecture (Azure/GCP/AWS)Knowledge of Database, Data Warehouse and Data Lake principlesA knowledge of the end to end data space, including: engineering, science, quality, analytics and BIExperience building production-grade applications in the cloudThis is a great chance to join a forward-thinking organisation with a superb working culture while on a significant ascendency. they offer plenty of progression opportunities and an excellent benefits package.There is also a Senior Data Engineer position availble within this organisation. Similar duties but will be less client facing and more hands on. If you are interested, please apply for full details.\""
      ]
     },
     "execution_count": 9,
     "metadata": {},
     "output_type": "execute_result"
    }
   ],
   "source": [
    "f = open('db.json')\n",
    "data = json.load(f)\n",
    "data.update(job_dictionary)\n",
    "json.dumps(data)\n",
    "# data['0'][1]"
   ]
  },
  {
   "cell_type": "code",
   "execution_count": 10,
   "id": "d370a4dd",
   "metadata": {},
   "outputs": [],
   "source": [
    "sleep(60)\n",
    "driver.close()\n",
    "driver.quit()"
   ]
  },
  {
   "cell_type": "code",
   "execution_count": null,
   "id": "4d82f5e9",
   "metadata": {},
   "outputs": [],
   "source": []
  }
 ],
 "metadata": {
  "kernelspec": {
   "display_name": "Python 3 (ipykernel)",
   "language": "python",
   "name": "python3"
  },
  "language_info": {
   "codemirror_mode": {
    "name": "ipython",
    "version": 3
   },
   "file_extension": ".py",
   "mimetype": "text/x-python",
   "name": "python",
   "nbconvert_exporter": "python",
   "pygments_lexer": "ipython3",
   "version": "3.10.2"
  }
 },
 "nbformat": 4,
 "nbformat_minor": 5
}
