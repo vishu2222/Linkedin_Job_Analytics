{
 "cells": [
  {
   "cell_type": "code",
   "execution_count": 1,
   "id": "4a8489cf",
   "metadata": {},
   "outputs": [],
   "source": [
    "from selenium import webdriver\n",
    "from selenium.webdriver.common.keys import Keys\n",
    "from selenium.webdriver.common.action_chains import ActionChains\n",
    "from selenium.common.exceptions import NoSuchElementException\n",
    "from time import sleep\n",
    "import warnings, secretKeys\n",
    "import json\n",
    "warnings.filterwarnings('ignore') "
   ]
  },
  {
   "cell_type": "code",
   "execution_count": 2,
   "id": "b11b23e5",
   "metadata": {},
   "outputs": [],
   "source": [
    "# path = 'D:\\drive\\projects\\linkdinAutoJob\\chromedriver.exe'\n",
    "path = 'D:\\drive\\projects\\jobSkillAnalytics\\pythonSelenium\\pythonSelenium\\chromedriver.exe'\n",
    "url = 'https://www.linkedin.com/'\n",
    "driver = webdriver.Chrome(path)\n",
    "driver.maximize_window()\n",
    "\n",
    "un = secretKeys.username\n",
    "pwd = secretKeys.pwd\n",
    "# action = ActionChains(driver)\n",
    "job_key = \"Data Science\\n\"\n",
    "driver.get(url = url)\n",
    "driver.find_element_by_name(\"session_key\").send_keys(un)\n",
    "driver.find_element_by_name(\"session_password\").send_keys(pwd)\n",
    "button = driver.find_element_by_class_name(\"sign-in-form__submit-button\")\n",
    "button.click()\n",
    "sleep(3)"
   ]
  },
  {
   "cell_type": "code",
   "execution_count": 3,
   "id": "501190b1",
   "metadata": {},
   "outputs": [],
   "source": [
    "try:\n",
    "    jobs = driver.find_element_by_xpath('//*[@id=\"global-nav-typeahead\"]/input')\n",
    "except:                     # needed to add appropriate exceptions\n",
    "    jobs = driver.find_element_by_class_name('search-global-typeahead__input.always-show-placeholder')\n",
    "finally:\n",
    "    jobs.send_keys(job_key)\n",
    "    jobs.send_keys(Keys.ENTER)\n",
    "\n",
    "sleep(5)"
   ]
  },
  {
   "cell_type": "code",
   "execution_count": 4,
   "id": "cb101349",
   "metadata": {},
   "outputs": [],
   "source": [
    "try:\n",
    "    seeAll = driver.find_element_by_class_name(\"app-aware-link\")\n",
    "except:\n",
    "    print('unable to expand')\n",
    "finally:\n",
    "    seeAll.click()\n",
    "    sleep(4)"
   ]
  },
  {
   "cell_type": "code",
   "execution_count": 5,
   "id": "9cc1e944",
   "metadata": {},
   "outputs": [],
   "source": [
    "jobTitles = driver.find_elements_by_class_name(\"disabled.ember-view.job-card-container__link.job-card-list__title\")\n",
    "links = [job.get_attribute('href') for job in jobTitles]"
   ]
  },
  {
   "cell_type": "code",
   "execution_count": 6,
   "id": "f5806379",
   "metadata": {},
   "outputs": [],
   "source": [
    "# details = driver.find_element_by_id(\"job-details\")\n",
    "# details.text"
   ]
  },
  {
   "cell_type": "code",
   "execution_count": 54,
   "id": "d917c696",
   "metadata": {},
   "outputs": [],
   "source": [
    "with open(\"db.json\",\"r+\") as f:\n",
    "    data = json.load(f)\n",
    "    i = len(data.keys())"
   ]
  },
  {
   "cell_type": "code",
   "execution_count": 55,
   "id": "6288f35f",
   "metadata": {},
   "outputs": [],
   "source": [
    "job_dictionary = {}\n",
    "for link in links:\n",
    "    driver.get(url=link)\n",
    "    sleep(3)\n",
    "    description = driver.find_element_by_css_selector('button[aria-label=\"Click to see more description\"]')\n",
    "    description.click()\n",
    "    details = driver.find_element_by_id(\"job-details\")\n",
    "    text = details.text\n",
    "    # print(text)\n",
    "    job_dictionary[i] = [link,text]\n",
    "    i=i+1\n",
    "    sleep(3)"
   ]
  },
  {
   "cell_type": "code",
   "execution_count": 60,
   "id": "ffef4a85",
   "metadata": {},
   "outputs": [],
   "source": [
    "with open(\"db.json\",\"r+\") as f:\n",
    "    data = json.load(f)\n",
    "    data.update(job_dictionary)\n",
    "    json.dump(data, f)\n"
   ]
  },
  {
   "cell_type": "code",
   "execution_count": 61,
   "id": "d370a4dd",
   "metadata": {},
   "outputs": [],
   "source": [
    "sleep(20)\n",
    "driver.close()\n",
    "driver.quit()"
   ]
  },
  {
   "cell_type": "code",
   "execution_count": null,
   "id": "4d82f5e9",
   "metadata": {},
   "outputs": [],
   "source": []
  }
 ],
 "metadata": {
  "kernelspec": {
   "display_name": "Python 3 (ipykernel)",
   "language": "python",
   "name": "python3"
  },
  "language_info": {
   "codemirror_mode": {
    "name": "ipython",
    "version": 3
   },
   "file_extension": ".py",
   "mimetype": "text/x-python",
   "name": "python",
   "nbconvert_exporter": "python",
   "pygments_lexer": "ipython3",
   "version": "3.10.2"
  }
 },
 "nbformat": 4,
 "nbformat_minor": 5
}
